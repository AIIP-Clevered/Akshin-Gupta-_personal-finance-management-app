{
  "nbformat": 4,
  "nbformat_minor": 0,
  "metadata": {
    "colab": {
      "provenance": []
    },
    "kernelspec": {
      "name": "python3",
      "display_name": "Python 3"
    },
    "language_info": {
      "name": "python"
    },
    "widgets": {
      "application/vnd.jupyter.widget-state+json": {
        "a1c3df699f534f3dba6b48fbb578bcf2": {
          "model_module": "@jupyter-widgets/controls",
          "model_name": "HTMLModel",
          "model_module_version": "1.5.0",
          "state": {
            "_dom_classes": [],
            "_model_module": "@jupyter-widgets/controls",
            "_model_module_version": "1.5.0",
            "_model_name": "HTMLModel",
            "_view_count": null,
            "_view_module": "@jupyter-widgets/controls",
            "_view_module_version": "1.5.0",
            "_view_name": "HTMLView",
            "description": "",
            "description_tooltip": null,
            "layout": "IPY_MODEL_9f383d6634aa4b0eab4735fc6861c6c5",
            "placeholder": "​",
            "style": "IPY_MODEL_8bec9d0ee8f5469e8a58f355207609fb",
            "value": "<h3 style='text-align:center;'>💰 AI-Powered Personal Finance Management System</h3>"
          }
        },
        "9f383d6634aa4b0eab4735fc6861c6c5": {
          "model_module": "@jupyter-widgets/base",
          "model_name": "LayoutModel",
          "model_module_version": "1.2.0",
          "state": {
            "_model_module": "@jupyter-widgets/base",
            "_model_module_version": "1.2.0",
            "_model_name": "LayoutModel",
            "_view_count": null,
            "_view_module": "@jupyter-widgets/base",
            "_view_module_version": "1.2.0",
            "_view_name": "LayoutView",
            "align_content": null,
            "align_items": null,
            "align_self": null,
            "border": null,
            "bottom": null,
            "display": null,
            "flex": null,
            "flex_flow": null,
            "grid_area": null,
            "grid_auto_columns": null,
            "grid_auto_flow": null,
            "grid_auto_rows": null,
            "grid_column": null,
            "grid_gap": null,
            "grid_row": null,
            "grid_template_areas": null,
            "grid_template_columns": null,
            "grid_template_rows": null,
            "height": null,
            "justify_content": null,
            "justify_items": null,
            "left": null,
            "margin": null,
            "max_height": null,
            "max_width": null,
            "min_height": null,
            "min_width": null,
            "object_fit": null,
            "object_position": null,
            "order": null,
            "overflow": null,
            "overflow_x": null,
            "overflow_y": null,
            "padding": null,
            "right": null,
            "top": null,
            "visibility": null,
            "width": null
          }
        },
        "8bec9d0ee8f5469e8a58f355207609fb": {
          "model_module": "@jupyter-widgets/controls",
          "model_name": "DescriptionStyleModel",
          "model_module_version": "1.5.0",
          "state": {
            "_model_module": "@jupyter-widgets/controls",
            "_model_module_version": "1.5.0",
            "_model_name": "DescriptionStyleModel",
            "_view_count": null,
            "_view_module": "@jupyter-widgets/base",
            "_view_module_version": "1.2.0",
            "_view_name": "StyleView",
            "description_width": ""
          }
        },
        "c09c3317aeb747449a57bcaff60ecf53": {
          "model_module": "@jupyter-widgets/controls",
          "model_name": "VBoxModel",
          "model_module_version": "1.5.0",
          "state": {
            "_dom_classes": [],
            "_model_module": "@jupyter-widgets/controls",
            "_model_module_version": "1.5.0",
            "_model_name": "VBoxModel",
            "_view_count": null,
            "_view_module": "@jupyter-widgets/controls",
            "_view_module_version": "1.5.0",
            "_view_name": "VBoxView",
            "box_style": "",
            "children": [
              "IPY_MODEL_cb8e9bab316842ae9fcff5f55559304e"
            ],
            "layout": "IPY_MODEL_7210d90eb55a4194816dab03ee5c6c08"
          }
        },
        "cb8e9bab316842ae9fcff5f55559304e": {
          "model_module": "@jupyter-widgets/controls",
          "model_name": "VBoxModel",
          "model_module_version": "1.5.0",
          "state": {
            "_dom_classes": [],
            "_model_module": "@jupyter-widgets/controls",
            "_model_module_version": "1.5.0",
            "_model_name": "VBoxModel",
            "_view_count": null,
            "_view_module": "@jupyter-widgets/controls",
            "_view_module_version": "1.5.0",
            "_view_name": "VBoxView",
            "box_style": "",
            "children": [
              "IPY_MODEL_9e3176ed061042f191f7a565dbdb2fca",
              "IPY_MODEL_1eae28c56fd44a31855c60f1adeaf193",
              "IPY_MODEL_2abba57444fa49f4934c930df24344c2",
              "IPY_MODEL_1af73d0afe3c4c68a8766f0fe309260b"
            ],
            "layout": "IPY_MODEL_e15315c5ea614549b95566aa1d9eeb18"
          }
        },
        "7210d90eb55a4194816dab03ee5c6c08": {
          "model_module": "@jupyter-widgets/base",
          "model_name": "LayoutModel",
          "model_module_version": "1.2.0",
          "state": {
            "_model_module": "@jupyter-widgets/base",
            "_model_module_version": "1.2.0",
            "_model_name": "LayoutModel",
            "_view_count": null,
            "_view_module": "@jupyter-widgets/base",
            "_view_module_version": "1.2.0",
            "_view_name": "LayoutView",
            "align_content": null,
            "align_items": "center",
            "align_self": null,
            "border": null,
            "bottom": null,
            "display": null,
            "flex": null,
            "flex_flow": null,
            "grid_area": null,
            "grid_auto_columns": null,
            "grid_auto_flow": null,
            "grid_auto_rows": null,
            "grid_column": null,
            "grid_gap": null,
            "grid_row": null,
            "grid_template_areas": null,
            "grid_template_columns": null,
            "grid_template_rows": null,
            "height": "200px",
            "justify_content": null,
            "justify_items": null,
            "left": null,
            "margin": null,
            "max_height": null,
            "max_width": null,
            "min_height": null,
            "min_width": null,
            "object_fit": null,
            "object_position": null,
            "order": null,
            "overflow": null,
            "overflow_x": null,
            "overflow_y": null,
            "padding": null,
            "right": null,
            "top": null,
            "visibility": null,
            "width": "100%"
          }
        },
        "9e3176ed061042f191f7a565dbdb2fca": {
          "model_module": "@jupyter-widgets/controls",
          "model_name": "ButtonModel",
          "model_module_version": "1.5.0",
          "state": {
            "_dom_classes": [],
            "_model_module": "@jupyter-widgets/controls",
            "_model_module_version": "1.5.0",
            "_model_name": "ButtonModel",
            "_view_count": null,
            "_view_module": "@jupyter-widgets/controls",
            "_view_module_version": "1.5.0",
            "_view_name": "ButtonView",
            "button_style": "",
            "description": "Track Your Expenses",
            "disabled": false,
            "icon": "",
            "layout": "IPY_MODEL_c00d16fbcda14dd289c03b5539f0a317",
            "style": "IPY_MODEL_1a9f31fb85c64972beb0f735d7de97b1",
            "tooltip": ""
          }
        },
        "1eae28c56fd44a31855c60f1adeaf193": {
          "model_module": "@jupyter-widgets/controls",
          "model_name": "ButtonModel",
          "model_module_version": "1.5.0",
          "state": {
            "_dom_classes": [],
            "_model_module": "@jupyter-widgets/controls",
            "_model_module_version": "1.5.0",
            "_model_name": "ButtonModel",
            "_view_count": null,
            "_view_module": "@jupyter-widgets/controls",
            "_view_module_version": "1.5.0",
            "_view_name": "ButtonView",
            "button_style": "",
            "description": "See Money Tips",
            "disabled": false,
            "icon": "",
            "layout": "IPY_MODEL_c00d16fbcda14dd289c03b5539f0a317",
            "style": "IPY_MODEL_1a9f31fb85c64972beb0f735d7de97b1",
            "tooltip": ""
          }
        },
        "2abba57444fa49f4934c930df24344c2": {
          "model_module": "@jupyter-widgets/controls",
          "model_name": "ButtonModel",
          "model_module_version": "1.5.0",
          "state": {
            "_dom_classes": [],
            "_model_module": "@jupyter-widgets/controls",
            "_model_module_version": "1.5.0",
            "_model_name": "ButtonModel",
            "_view_count": null,
            "_view_module": "@jupyter-widgets/controls",
            "_view_module_version": "1.5.0",
            "_view_name": "ButtonView",
            "button_style": "",
            "description": "Predict Future Spending",
            "disabled": false,
            "icon": "",
            "layout": "IPY_MODEL_c00d16fbcda14dd289c03b5539f0a317",
            "style": "IPY_MODEL_1a9f31fb85c64972beb0f735d7de97b1",
            "tooltip": ""
          }
        },
        "1af73d0afe3c4c68a8766f0fe309260b": {
          "model_module": "@jupyter-widgets/controls",
          "model_name": "FloatTextModel",
          "model_module_version": "1.5.0",
          "state": {
            "_dom_classes": [],
            "_model_module": "@jupyter-widgets/controls",
            "_model_module_version": "1.5.0",
            "_model_name": "FloatTextModel",
            "_view_count": null,
            "_view_module": "@jupyter-widgets/controls",
            "_view_module_version": "1.5.0",
            "_view_name": "FloatTextView",
            "continuous_update": false,
            "description": "Expenses:",
            "description_tooltip": null,
            "disabled": false,
            "layout": "IPY_MODEL_382720d52b0c4cfb92d4a94ddd55586b",
            "step": null,
            "style": "IPY_MODEL_d17182d53e1041a1895e227759d53fb6",
            "value": 50000
          }
        },
        "e15315c5ea614549b95566aa1d9eeb18": {
          "model_module": "@jupyter-widgets/base",
          "model_name": "LayoutModel",
          "model_module_version": "1.2.0",
          "state": {
            "_model_module": "@jupyter-widgets/base",
            "_model_module_version": "1.2.0",
            "_model_name": "LayoutModel",
            "_view_count": null,
            "_view_module": "@jupyter-widgets/base",
            "_view_module_version": "1.2.0",
            "_view_name": "LayoutView",
            "align_content": null,
            "align_items": "center",
            "align_self": null,
            "border": null,
            "bottom": null,
            "display": null,
            "flex": null,
            "flex_flow": null,
            "grid_area": null,
            "grid_auto_columns": null,
            "grid_auto_flow": null,
            "grid_auto_rows": null,
            "grid_column": null,
            "grid_gap": null,
            "grid_row": null,
            "grid_template_areas": null,
            "grid_template_columns": null,
            "grid_template_rows": null,
            "height": "200px",
            "justify_content": null,
            "justify_items": null,
            "left": null,
            "margin": null,
            "max_height": null,
            "max_width": null,
            "min_height": null,
            "min_width": null,
            "object_fit": null,
            "object_position": null,
            "order": null,
            "overflow": null,
            "overflow_x": null,
            "overflow_y": null,
            "padding": null,
            "right": null,
            "top": null,
            "visibility": null,
            "width": "100%"
          }
        },
        "c00d16fbcda14dd289c03b5539f0a317": {
          "model_module": "@jupyter-widgets/base",
          "model_name": "LayoutModel",
          "model_module_version": "1.2.0",
          "state": {
            "_model_module": "@jupyter-widgets/base",
            "_model_module_version": "1.2.0",
            "_model_name": "LayoutModel",
            "_view_count": null,
            "_view_module": "@jupyter-widgets/base",
            "_view_module_version": "1.2.0",
            "_view_name": "LayoutView",
            "align_content": null,
            "align_items": null,
            "align_self": null,
            "border": null,
            "bottom": null,
            "display": null,
            "flex": null,
            "flex_flow": null,
            "grid_area": null,
            "grid_auto_columns": null,
            "grid_auto_flow": null,
            "grid_auto_rows": null,
            "grid_column": null,
            "grid_gap": null,
            "grid_row": null,
            "grid_template_areas": null,
            "grid_template_columns": null,
            "grid_template_rows": null,
            "height": null,
            "justify_content": null,
            "justify_items": null,
            "left": null,
            "margin": null,
            "max_height": null,
            "max_width": null,
            "min_height": null,
            "min_width": null,
            "object_fit": null,
            "object_position": null,
            "order": null,
            "overflow": null,
            "overflow_x": null,
            "overflow_y": null,
            "padding": null,
            "right": null,
            "top": null,
            "visibility": null,
            "width": "200px"
          }
        },
        "1a9f31fb85c64972beb0f735d7de97b1": {
          "model_module": "@jupyter-widgets/controls",
          "model_name": "ButtonStyleModel",
          "model_module_version": "1.5.0",
          "state": {
            "_model_module": "@jupyter-widgets/controls",
            "_model_module_version": "1.5.0",
            "_model_name": "ButtonStyleModel",
            "_view_count": null,
            "_view_module": "@jupyter-widgets/base",
            "_view_module_version": "1.2.0",
            "_view_name": "StyleView",
            "button_color": null,
            "font_weight": ""
          }
        },
        "382720d52b0c4cfb92d4a94ddd55586b": {
          "model_module": "@jupyter-widgets/base",
          "model_name": "LayoutModel",
          "model_module_version": "1.2.0",
          "state": {
            "_model_module": "@jupyter-widgets/base",
            "_model_module_version": "1.2.0",
            "_model_name": "LayoutModel",
            "_view_count": null,
            "_view_module": "@jupyter-widgets/base",
            "_view_module_version": "1.2.0",
            "_view_name": "LayoutView",
            "align_content": null,
            "align_items": null,
            "align_self": null,
            "border": null,
            "bottom": null,
            "display": null,
            "flex": null,
            "flex_flow": null,
            "grid_area": null,
            "grid_auto_columns": null,
            "grid_auto_flow": null,
            "grid_auto_rows": null,
            "grid_column": null,
            "grid_gap": null,
            "grid_row": null,
            "grid_template_areas": null,
            "grid_template_columns": null,
            "grid_template_rows": null,
            "height": null,
            "justify_content": null,
            "justify_items": null,
            "left": null,
            "margin": null,
            "max_height": null,
            "max_width": null,
            "min_height": null,
            "min_width": null,
            "object_fit": null,
            "object_position": null,
            "order": null,
            "overflow": null,
            "overflow_x": null,
            "overflow_y": null,
            "padding": null,
            "right": null,
            "top": null,
            "visibility": null,
            "width": "200px"
          }
        },
        "d17182d53e1041a1895e227759d53fb6": {
          "model_module": "@jupyter-widgets/controls",
          "model_name": "DescriptionStyleModel",
          "model_module_version": "1.5.0",
          "state": {
            "_model_module": "@jupyter-widgets/controls",
            "_model_module_version": "1.5.0",
            "_model_name": "DescriptionStyleModel",
            "_view_count": null,
            "_view_module": "@jupyter-widgets/base",
            "_view_module_version": "1.2.0",
            "_view_name": "StyleView",
            "description_width": ""
          }
        }
      }
    }
  },
  "cells": [
    {
      "cell_type": "code",
      "source": [
        "!pip install gtts"
      ],
      "metadata": {
        "colab": {
          "base_uri": "https://localhost:8080/"
        },
        "id": "r5aMBzmB8_RP",
        "outputId": "1758ca64-d0fa-4f18-de92-cd99dfee548e"
      },
      "execution_count": 1,
      "outputs": [
        {
          "output_type": "stream",
          "name": "stdout",
          "text": [
            "Collecting gtts\n",
            "  Downloading gTTS-2.5.4-py3-none-any.whl.metadata (4.1 kB)\n",
            "Requirement already satisfied: requests<3,>=2.27 in /usr/local/lib/python3.12/dist-packages (from gtts) (2.32.4)\n",
            "Collecting click<8.2,>=7.1 (from gtts)\n",
            "  Downloading click-8.1.8-py3-none-any.whl.metadata (2.3 kB)\n",
            "Requirement already satisfied: charset_normalizer<4,>=2 in /usr/local/lib/python3.12/dist-packages (from requests<3,>=2.27->gtts) (3.4.4)\n",
            "Requirement already satisfied: idna<4,>=2.5 in /usr/local/lib/python3.12/dist-packages (from requests<3,>=2.27->gtts) (3.11)\n",
            "Requirement already satisfied: urllib3<3,>=1.21.1 in /usr/local/lib/python3.12/dist-packages (from requests<3,>=2.27->gtts) (2.5.0)\n",
            "Requirement already satisfied: certifi>=2017.4.17 in /usr/local/lib/python3.12/dist-packages (from requests<3,>=2.27->gtts) (2025.10.5)\n",
            "Downloading gTTS-2.5.4-py3-none-any.whl (29 kB)\n",
            "Downloading click-8.1.8-py3-none-any.whl (98 kB)\n",
            "\u001b[2K   \u001b[90m━━━━━━━━━━━━━━━━━━━━━━━━━━━━━━━━━━━━━━━━\u001b[0m \u001b[32m98.2/98.2 kB\u001b[0m \u001b[31m3.0 MB/s\u001b[0m eta \u001b[36m0:00:00\u001b[0m\n",
            "\u001b[?25hInstalling collected packages: click, gtts\n",
            "  Attempting uninstall: click\n",
            "    Found existing installation: click 8.3.0\n",
            "    Uninstalling click-8.3.0:\n",
            "      Successfully uninstalled click-8.3.0\n",
            "Successfully installed click-8.1.8 gtts-2.5.4\n"
          ]
        }
      ]
    },
    {
      "cell_type": "code",
      "source": [
        "import gtts as gtts\n",
        "import ipywidgets as widgets\n",
        "from IPython.display import display, HTML, Audio\n",
        "from gtts import gTTS\n",
        "import pandas as pd\n",
        "import os\n",
        "from sklearn.linear_model import LinearRegression\n",
        "import numpy as np\n",
        "import matplotlib.pyplot as plt\n",
        "import ipywidgets as widgets\n",
        "from IPython.display import display, HTML\n",
        "\n",
        "\n",
        "class PersonalFinanceApp:\n",
        "    def __init__(self):\n",
        "        self.create_widgets()\n",
        "\n",
        "    def create_widgets(self):\n",
        "        # App title\n",
        "        self.logo_label = widgets.HTML(\n",
        "            value=\"<h3 style='text-align:center;'>💰 AI-Powered Personal Finance Management System</h3>\"\n",
        "            )\n",
        "        display(self.logo_label)\n",
        "\n",
        "        # Buttons\n",
        "        self.track_expenses_button = widgets.Button(description=\"Track Your Expenses\", style=widgets.ButtonStyle(button_color='lightblue'))\n",
        "        self.money_tips_button = widgets.Button(description=\"See Money Tips\", style=widgets.ButtonStyle(button_color='lightgreen'))\n",
        "        self.predict_spending_button = widgets.Button(description=\"Predict Future Spending\", style=widgets.ButtonStyle(button_color='salmon'))\n",
        "\n",
        "        # Apply text wrapping style, uniform width, and center alignment\n",
        "        button_layout = widgets.Layout(width='200px', overflow_wrap='break-word') # Setting a fixed width for consistency\n",
        "        button_style = widgets.ButtonStyle()\n",
        "        button_style.text_align = 'center' # Center align text\n",
        "\n",
        "        self.track_expenses_button.layout = button_layout\n",
        "        self.money_tips_button.layout = button_layout\n",
        "        self.predict_spending_button.layout = button_layout\n",
        "\n",
        "        # Apply the same style to all buttons (overrides individual button_color)\n",
        "        self.track_expenses_button.style = button_style\n",
        "        self.money_tips_button.style = button_style\n",
        "        self.predict_spending_button.style = button_style\n",
        "\n",
        "         # Inputs\n",
        "        self.expenses_input = widgets.FloatText(  # FloatText for numeric input\n",
        "                                                description=\"Expenses:\",\n",
        "                                                  layout=widgets.Layout(width='200px',)\n",
        "                                                  )\n",
        "\n",
        "        # Stack buttons vertically and center everything\n",
        "        self.button_column = widgets.VBox(\n",
        "            [self.track_expenses_button, self.money_tips_button, self.predict_spending_button, self.expenses_input],\n",
        "            layout=widgets.Layout(\n",
        "                #justify_content='center',   # vertical centering within VBox\n",
        "                align_items='center',       # horizontal centering\n",
        "                height='200px',              # takes 80% of viewport height\n",
        "                width='100%'\n",
        "                )\n",
        "            )\n",
        "\n",
        "        # Combine buttons and input into one vertically centered box\n",
        "        self.center_box = widgets.VBox(\n",
        "            [self.button_column],\n",
        "            layout=widgets.Layout(\n",
        "                align_items='center',      # horizontal centering\n",
        "                #justify_content='center',  # vertical centering\n",
        "                width='100%',\n",
        "                height='200px'              # adjust for proper vertical centering\n",
        "                )\n",
        "            )\n",
        "\n",
        "        # Display everything\n",
        "        display(self.center_box)\n",
        "        #display(self.expenses_input)\n",
        "\n",
        "\n",
        "\n",
        "        # Link buttons to functions\n",
        "        self.track_expenses_button.on_click(self.track_expenses)\n",
        "        self.money_tips_button.on_click(self.see_money_tips)\n",
        "        self.predict_spending_button.on_click(self.predict_future_spending)\n",
        "\n",
        "\n",
        "    # Placeholder functions\n",
        "    def track_expenses(self, b):\n",
        "      try:\n",
        "          expenses = float(self.expenses_input.value)\n",
        "\n",
        "          if expenses == 0:\n",
        "              display(HTML(\"<p style='text-align:center;'>You don't spend money on anything 😂</p>\"))\n",
        "              return\n",
        "\n",
        "          # Calculate categories\n",
        "          rent = expenses * 0.25\n",
        "          utilities = expenses * 0.05\n",
        "          food = expenses * 0.1\n",
        "          transport = expenses * 0.08\n",
        "          healthcare = expenses * 0.05\n",
        "          investments = expenses * 0.1\n",
        "          entertainment = expenses * 0.1\n",
        "          others = expenses * 0.03\n",
        "          savings = expenses - (rent + utilities + food + transport + healthcare + investments + entertainment + others)\n",
        "\n",
        "          # Prepare data\n",
        "          labels = ['Rent', 'Utilities', 'Food', 'Transport', 'Healthcare',\n",
        "                    'Savings', 'Investments', 'Entertainment', 'Others']\n",
        "          values = [rent, utilities, food, transport, healthcare,\n",
        "                    savings, investments, entertainment, others]\n",
        "          percents = ['25%', '5%', '10%', '8%', '5%', '10%', '10%', '10%', '3%']\n",
        "\n",
        "          # DataFrame (centered using Styler)\n",
        "          df = pd.DataFrame({\n",
        "              'Category': labels,\n",
        "              'Amount (QAR)': [f'{v:.2f}' for v in values],\n",
        "              'Percent': percents\n",
        "          })\n",
        "          styled_df = df.style.set_table_styles(\n",
        "              [{'selector': 'th, td', 'props': [('text-align', 'center')]}]\n",
        "          ).hide(axis=\"index\")  # hide index column for neat look\n",
        "\n",
        "          display(HTML(\"<div style='display:flex; justify-content:center;'>\"))\n",
        "          display(styled_df)\n",
        "          display(HTML(\"</div>\"))\n",
        "\n",
        "          # Pie chart (no double display)\n",
        "          colors = [\"#E63946\", \"#F4A261\", \"#E9C46A\", \"#2A9D8F\",\n",
        "                    \"#457B9D\", \"#6D597A\", \"#B56576\", \"#264653\", \"#A8DADC\"]\n",
        "\n",
        "          fig, ax = plt.subplots(figsize=(7, 7))\n",
        "          ax.pie(\n",
        "              values,\n",
        "              labels=labels,\n",
        "              colors=colors,\n",
        "              autopct='%1.0f%%',\n",
        "              startangle=90,\n",
        "              wedgeprops={'edgecolor': 'black', 'linewidth': 2, 'antialiased': True},\n",
        "              textprops={'ha': 'center'}\n",
        "          )\n",
        "          ax.set_title(f\"Expense Distribution (Total: {expenses:.2f} QAR)\")\n",
        "          ax.axis('equal')\n",
        "\n",
        "          # Center chart\n",
        "          display(HTML(\"<div style='display:flex; justify-content:center;'>\"))\n",
        "          plt.show()\n",
        "          display(HTML(\"</div>\"))\n",
        "\n",
        "      except ValueError:\n",
        "          display(HTML(\"<p style='color: red; text-align:center;'>Please enter a valid number for expenses.</p>\"))\n",
        "\n",
        "\n",
        "\n",
        "    def see_money_tips(self, b):\n",
        "        display(HTML(\"<p>1. <b>50-30-20 Rule</b> → Spend 50% on needs, 30% on wants, 20% on savings/investing.</p><p>2. <b>Track Every Rial</b> → Use daily expense logs to see where your money leaks.</p><p>3. <b>Emergency Fund</b> → Save 3–6 months of expenses in a liquid account.</p><p>4. <b>Avoid Lifestyle Inflation</b> → Don’t increase expenses just because your income rises.</p><p>5. <b>Sleep on Big Purchases</b> → Wait 24 hours before buying non-essentials.</p>\"))\n",
        "\n",
        "    def predict_future_spending(self, b):\n",
        "        display(HTML(\"<p>Click here to predict future spending: <a href='https://www.google.com/finance'>Google Finance</a></p>\"))\n",
        "\n",
        "# Run the app\n",
        "finance_app = PersonalFinanceApp()"
      ],
      "metadata": {
        "colab": {
          "base_uri": "https://localhost:8080/",
          "height": 1000,
          "referenced_widgets": [
            "a1c3df699f534f3dba6b48fbb578bcf2",
            "9f383d6634aa4b0eab4735fc6861c6c5",
            "8bec9d0ee8f5469e8a58f355207609fb",
            "c09c3317aeb747449a57bcaff60ecf53",
            "cb8e9bab316842ae9fcff5f55559304e",
            "7210d90eb55a4194816dab03ee5c6c08",
            "9e3176ed061042f191f7a565dbdb2fca",
            "1eae28c56fd44a31855c60f1adeaf193",
            "2abba57444fa49f4934c930df24344c2",
            "1af73d0afe3c4c68a8766f0fe309260b",
            "e15315c5ea614549b95566aa1d9eeb18",
            "c00d16fbcda14dd289c03b5539f0a317",
            "1a9f31fb85c64972beb0f735d7de97b1",
            "382720d52b0c4cfb92d4a94ddd55586b",
            "d17182d53e1041a1895e227759d53fb6"
          ]
        },
        "id": "x-6crh2yO4aj",
        "outputId": "7a42a85f-66ef-4b11-8398-f2d69cf3206e"
      },
      "execution_count": 2,
      "outputs": [
        {
          "output_type": "display_data",
          "data": {
            "text/plain": [
              "HTML(value=\"<h3 style='text-align:center;'>💰 AI-Powered Personal Finance Management System</h3>\")"
            ],
            "application/vnd.jupyter.widget-view+json": {
              "version_major": 2,
              "version_minor": 0,
              "model_id": "a1c3df699f534f3dba6b48fbb578bcf2"
            }
          },
          "metadata": {}
        },
        {
          "output_type": "display_data",
          "data": {
            "text/plain": [
              "VBox(children=(VBox(children=(Button(description='Track Your Expenses', layout=Layout(width='200px'), style=Bu…"
            ],
            "application/vnd.jupyter.widget-view+json": {
              "version_major": 2,
              "version_minor": 0,
              "model_id": "c09c3317aeb747449a57bcaff60ecf53"
            }
          },
          "metadata": {}
        },
        {
          "output_type": "display_data",
          "data": {
            "text/plain": [
              "<IPython.core.display.HTML object>"
            ],
            "text/html": [
              "<p style='text-align:center;'>You don't spend money on anything 😂</p>"
            ]
          },
          "metadata": {}
        },
        {
          "output_type": "display_data",
          "data": {
            "text/plain": [
              "<IPython.core.display.HTML object>"
            ],
            "text/html": [
              "<div style='display:flex; justify-content:center;'>"
            ]
          },
          "metadata": {}
        },
        {
          "output_type": "display_data",
          "data": {
            "text/plain": [
              "<pandas.io.formats.style.Styler at 0x79e64ceb47a0>"
            ],
            "text/html": [
              "<style type=\"text/css\">\n",
              "#T_6abcc th {\n",
              "  text-align: center;\n",
              "}\n",
              "#T_6abcc  td {\n",
              "  text-align: center;\n",
              "}\n",
              "</style>\n",
              "<table id=\"T_6abcc\" class=\"dataframe\">\n",
              "  <thead>\n",
              "    <tr>\n",
              "      <th id=\"T_6abcc_level0_col0\" class=\"col_heading level0 col0\" >Category</th>\n",
              "      <th id=\"T_6abcc_level0_col1\" class=\"col_heading level0 col1\" >Amount (QAR)</th>\n",
              "      <th id=\"T_6abcc_level0_col2\" class=\"col_heading level0 col2\" >Percent</th>\n",
              "    </tr>\n",
              "  </thead>\n",
              "  <tbody>\n",
              "    <tr>\n",
              "      <td id=\"T_6abcc_row0_col0\" class=\"data row0 col0\" >Rent</td>\n",
              "      <td id=\"T_6abcc_row0_col1\" class=\"data row0 col1\" >12500.00</td>\n",
              "      <td id=\"T_6abcc_row0_col2\" class=\"data row0 col2\" >25%</td>\n",
              "    </tr>\n",
              "    <tr>\n",
              "      <td id=\"T_6abcc_row1_col0\" class=\"data row1 col0\" >Utilities</td>\n",
              "      <td id=\"T_6abcc_row1_col1\" class=\"data row1 col1\" >2500.00</td>\n",
              "      <td id=\"T_6abcc_row1_col2\" class=\"data row1 col2\" >5%</td>\n",
              "    </tr>\n",
              "    <tr>\n",
              "      <td id=\"T_6abcc_row2_col0\" class=\"data row2 col0\" >Food</td>\n",
              "      <td id=\"T_6abcc_row2_col1\" class=\"data row2 col1\" >5000.00</td>\n",
              "      <td id=\"T_6abcc_row2_col2\" class=\"data row2 col2\" >10%</td>\n",
              "    </tr>\n",
              "    <tr>\n",
              "      <td id=\"T_6abcc_row3_col0\" class=\"data row3 col0\" >Transport</td>\n",
              "      <td id=\"T_6abcc_row3_col1\" class=\"data row3 col1\" >4000.00</td>\n",
              "      <td id=\"T_6abcc_row3_col2\" class=\"data row3 col2\" >8%</td>\n",
              "    </tr>\n",
              "    <tr>\n",
              "      <td id=\"T_6abcc_row4_col0\" class=\"data row4 col0\" >Healthcare</td>\n",
              "      <td id=\"T_6abcc_row4_col1\" class=\"data row4 col1\" >2500.00</td>\n",
              "      <td id=\"T_6abcc_row4_col2\" class=\"data row4 col2\" >5%</td>\n",
              "    </tr>\n",
              "    <tr>\n",
              "      <td id=\"T_6abcc_row5_col0\" class=\"data row5 col0\" >Savings</td>\n",
              "      <td id=\"T_6abcc_row5_col1\" class=\"data row5 col1\" >12000.00</td>\n",
              "      <td id=\"T_6abcc_row5_col2\" class=\"data row5 col2\" >10%</td>\n",
              "    </tr>\n",
              "    <tr>\n",
              "      <td id=\"T_6abcc_row6_col0\" class=\"data row6 col0\" >Investments</td>\n",
              "      <td id=\"T_6abcc_row6_col1\" class=\"data row6 col1\" >5000.00</td>\n",
              "      <td id=\"T_6abcc_row6_col2\" class=\"data row6 col2\" >10%</td>\n",
              "    </tr>\n",
              "    <tr>\n",
              "      <td id=\"T_6abcc_row7_col0\" class=\"data row7 col0\" >Entertainment</td>\n",
              "      <td id=\"T_6abcc_row7_col1\" class=\"data row7 col1\" >5000.00</td>\n",
              "      <td id=\"T_6abcc_row7_col2\" class=\"data row7 col2\" >10%</td>\n",
              "    </tr>\n",
              "    <tr>\n",
              "      <td id=\"T_6abcc_row8_col0\" class=\"data row8 col0\" >Others</td>\n",
              "      <td id=\"T_6abcc_row8_col1\" class=\"data row8 col1\" >1500.00</td>\n",
              "      <td id=\"T_6abcc_row8_col2\" class=\"data row8 col2\" >3%</td>\n",
              "    </tr>\n",
              "  </tbody>\n",
              "</table>\n"
            ]
          },
          "metadata": {}
        },
        {
          "output_type": "display_data",
          "data": {
            "text/plain": [
              "<IPython.core.display.HTML object>"
            ],
            "text/html": [
              "</div>"
            ]
          },
          "metadata": {}
        },
        {
          "output_type": "display_data",
          "data": {
            "text/plain": [
              "<IPython.core.display.HTML object>"
            ],
            "text/html": [
              "<div style='display:flex; justify-content:center;'>"
            ]
          },
          "metadata": {}
        },
        {
          "output_type": "display_data",
          "data": {
            "text/plain": [
              "<Figure size 700x700 with 1 Axes>"
            ],
            "image/png": "[encoded data removed]"
          },
          "metadata": {}
        },
        {
          "output_type": "display_data",
          "data": {
            "text/plain": [
              "<IPython.core.display.HTML object>"
            ],
            "text/html": [
              "</div>"
            ]
          },
          "metadata": {}
        },
        {
          "output_type": "display_data",
          "data": {
            "text/plain": [
              "<IPython.core.display.HTML object>"
            ],
            "text/html": [
              "<p>1. <b>50-30-20 Rule</b> → Spend 50% on needs, 30% on wants, 20% on savings/investing.</p><p>2. <b>Track Every Rial</b> → Use daily expense logs to see where your money leaks.</p><p>3. <b>Emergency Fund</b> → Save 3–6 months of expenses in a liquid account.</p><p>4. <b>Avoid Lifestyle Inflation</b> → Don’t increase expenses just because your income rises.</p><p>5. <b>Sleep on Big Purchases</b> → Wait 24 hours before buying non-essentials.</p>"
            ]
          },
          "metadata": {}
        },
        {
          "output_type": "display_data",
          "data": {
            "text/plain": [
              "<IPython.core.display.HTML object>"
            ],
            "text/html": [
              "<p>1. <b>50-30-20 Rule</b> → Spend 50% on needs, 30% on wants, 20% on savings/investing.</p><p>2. <b>Track Every Rial</b> → Use daily expense logs to see where your money leaks.</p><p>3. <b>Emergency Fund</b> → Save 3–6 months of expenses in a liquid account.</p><p>4. <b>Avoid Lifestyle Inflation</b> → Don’t increase expenses just because your income rises.</p><p>5. <b>Sleep on Big Purchases</b> → Wait 24 hours before buying non-essentials.</p>"
            ]
          },
          "metadata": {}
        },
        {
          "output_type": "display_data",
          "data": {
            "text/plain": [
              "<IPython.core.display.HTML object>"
            ],
            "text/html": [
              "<p>Click here to predict future spending: <a href='https://www.google.com/finance'>Google Finance</a></p>"
            ]
          },
          "metadata": {}
        }
      ]
    }
  ]
}